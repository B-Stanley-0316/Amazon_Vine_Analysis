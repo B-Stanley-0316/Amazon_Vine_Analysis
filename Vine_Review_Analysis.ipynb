{
  "nbformat": 4,
  "nbformat_minor": 0,
  "metadata": {
    "colab": {
      "name": "Vine_Review_Analysis.ipynb",
      "provenance": [],
      "collapsed_sections": []
    },
    "kernelspec": {
      "name": "python3",
      "display_name": "Python 3"
    },
    "nteract": {
      "version": "0.12.3"
    },
    "language_info": {
      "name": "python"
    }
  },
  "cells": [
    {
      "cell_type": "code",
      "metadata": {
        "id": "V58rxea0HqSa",
        "colab": {
          "base_uri": "https://localhost:8080/"
        },
        "outputId": "bfa50324-5fc1-4cc2-d5dc-29f16d2e29ba"
      },
      "source": [
        "import os\n",
        "# Find the latest version of spark 3.0 from http://www.apache.org/dist/spark/ and enter as the spark version\n",
        "# For example:\n",
        "# spark_version = 'spark-3.0.3'\n",
        "spark_version = 'spark-3.0.3'\n",
        "os.environ['SPARK_VERSION']=spark_version\n",
        "\n",
        "# Install Spark and Java\n",
        "!apt-get update\n",
        "!apt-get install openjdk-11-jdk-headless -qq > /dev/null\n",
        "!wget -q http://www.apache.org/dist/spark/$SPARK_VERSION/$SPARK_VERSION-bin-hadoop2.7.tgz\n",
        "!tar xf $SPARK_VERSION-bin-hadoop2.7.tgz\n",
        "!pip install -q findspark\n",
        "\n",
        "# Set Environment Variables\n",
        "import os\n",
        "os.environ[\"JAVA_HOME\"] = \"/usr/lib/jvm/java-11-openjdk-amd64\"\n",
        "os.environ[\"SPARK_HOME\"] = f\"/content/{spark_version}-bin-hadoop2.7\"\n",
        "\n",
        "# Start a SparkSession\n",
        "import findspark\n",
        "findspark.init()"
      ],
      "execution_count": 1,
      "outputs": [
        {
          "output_type": "stream",
          "name": "stdout",
          "text": [
            "\r0% [Working]\r            \rGet:1 https://cloud.r-project.org/bin/linux/ubuntu bionic-cran40/ InRelease [3,626 B]\n",
            "Hit:2 https://developer.download.nvidia.com/compute/cuda/repos/ubuntu1804/x86_64  InRelease\n",
            "Hit:3 http://ppa.launchpad.net/c2d4u.team/c2d4u4.0+/ubuntu bionic InRelease\n",
            "Ign:4 https://developer.download.nvidia.com/compute/machine-learning/repos/ubuntu1804/x86_64  InRelease\n",
            "Hit:5 https://developer.download.nvidia.com/compute/machine-learning/repos/ubuntu1804/x86_64  Release\n",
            "Hit:6 http://ppa.launchpad.net/cran/libgit2/ubuntu bionic InRelease\n",
            "Hit:7 http://ppa.launchpad.net/deadsnakes/ppa/ubuntu bionic InRelease\n",
            "Hit:8 http://archive.ubuntu.com/ubuntu bionic InRelease\n",
            "Get:9 http://security.ubuntu.com/ubuntu bionic-security InRelease [88.7 kB]\n",
            "Get:10 http://archive.ubuntu.com/ubuntu bionic-updates InRelease [88.7 kB]\n",
            "Hit:11 http://ppa.launchpad.net/graphics-drivers/ppa/ubuntu bionic InRelease\n",
            "Get:12 http://archive.ubuntu.com/ubuntu bionic-backports InRelease [74.6 kB]\n",
            "Get:14 http://security.ubuntu.com/ubuntu bionic-security/restricted amd64 Packages [1,006 kB]\n",
            "Get:15 http://security.ubuntu.com/ubuntu bionic-security/multiverse amd64 Packages [22.8 kB]\n",
            "Get:16 http://security.ubuntu.com/ubuntu bionic-security/universe amd64 Packages [1,521 kB]\n",
            "Get:17 http://security.ubuntu.com/ubuntu bionic-security/main amd64 Packages [2,861 kB]\n",
            "Get:18 http://archive.ubuntu.com/ubuntu bionic-updates/main amd64 Packages [3,294 kB]\n",
            "Get:19 http://archive.ubuntu.com/ubuntu bionic-updates/multiverse amd64 Packages [29.8 kB]\n",
            "Get:20 http://archive.ubuntu.com/ubuntu bionic-updates/restricted amd64 Packages [1,040 kB]\n",
            "Get:21 http://archive.ubuntu.com/ubuntu bionic-updates/universe amd64 Packages [2,297 kB]\n",
            "Get:22 http://archive.ubuntu.com/ubuntu bionic-backports/main amd64 Packages [12.2 kB]\n",
            "Fetched 12.3 MB in 6s (1,944 kB/s)\n",
            "Reading package lists... Done\n"
          ]
        }
      ]
    },
    {
      "cell_type": "code",
      "metadata": {
        "id": "MMqDAjVS0KN9"
      },
      "source": [
        "from pyspark.sql import SparkSession\n",
        "spark = SparkSession.builder.appName(\"BigData-Challenge\").getOrCreate()"
      ],
      "execution_count": 2,
      "outputs": []
    },
    {
      "cell_type": "code",
      "metadata": {
        "id": "CtCmBhQJY-9Z",
        "colab": {
          "base_uri": "https://localhost:8080/"
        },
        "outputId": "bc2b9979-4d08-432b-8ef5-463b66d867b5"
      },
      "source": [
        "from pyspark import SparkFiles\n",
        "url = \"https://amazonreviewsbucketbs.s3.amazonaws.com/amazon_reviews_us_Personal_Care_Appliances_v1_00.tsv.gz\"\n",
        "spark.sparkContext.addFile(url)\n",
        "df = spark.read.option(\"encoding\", \"UTF-8\").csv(SparkFiles.get(\"amazon_reviews_us_Personal_Care_Appliances_v1_00.tsv.gz\"), sep=\"\\t\", header=True, inferSchema=True)\n",
        "df.show()"
      ],
      "execution_count": 3,
      "outputs": [
        {
          "output_type": "stream",
          "name": "stdout",
          "text": [
            "+-----------+-----------+--------------+----------+--------------+--------------------+--------------------+-----------+-------------+-----------+----+-----------------+--------------------+--------------------+-----------+\n",
            "|marketplace|customer_id|     review_id|product_id|product_parent|       product_title|    product_category|star_rating|helpful_votes|total_votes|vine|verified_purchase|     review_headline|         review_body|review_date|\n",
            "+-----------+-----------+--------------+----------+--------------+--------------------+--------------------+-----------+-------------+-----------+----+-----------------+--------------------+--------------------+-----------+\n",
            "|         US|   32114233|R1QX6706ZWJ1P5|B00OYRW4UE|     223980852|Elite Sportz Exer...|Personal_Care_App...|          5|            0|          0|   N|                Y|Good quality. Shi...|Exactly as descri...| 2015-08-31|\n",
            "|         US|   18125776|R3QWMLJHIW6P37|B0000537JQ|     819771537|     Ezy Dose Weekly|Personal_Care_App...|          5|            0|          0|   N|                Y|          Five Stars|         It is great| 2015-08-31|\n",
            "|         US|   19917519|R14Z1VR1N0Z9G6|B00HXXO332|     849307176|Pulse Oximeter, B...|Personal_Care_App...|          5|            1|          1|   N|                Y|It's really nice ...|It's really nice ...| 2015-08-31|\n",
            "|         US|   18277171| R25ZRJL0GH0U0|B00EOB0JA2|     700864740|SE Tools Tool Kit...|Personal_Care_App...|          2|            0|          0|   N|                Y|           Two Stars|The kit works fin...| 2015-08-31|\n",
            "|         US|    2593270|R3837KYH7AZNIY|B00OC2O1UC|     794298839|doTERRA HD Clear ...|Personal_Care_App...|          4|            0|          1|   N|                Y|          Four Stars|It works better t...| 2015-08-31|\n",
            "|         US|    2592955|R2MN0QYCY6EVIV|B00HES9CMS|     318730927|Viva Naturals #1 ...|Personal_Care_App...|          5|            0|          0|   N|                Y|      not bad at all|I added to my oat...| 2015-08-31|\n",
            "|         US|   15168265|R3AN2UJ1D42ZS0|B0016BFR4G|     887476137|Uncle Lee's Organ...|Personal_Care_App...|          5|            0|          0|   N|                Y|Mild, enjoyable t...|Husband drinks th...| 2015-08-31|\n",
            "|         US|   13761624|R3U29ZLUWEEK4M|B00K504UUG|     458706868|Syrtenty Electrod...|Personal_Care_App...|          5|            0|          0|   N|                Y|          Five Stars|       Good quality.| 2015-08-31|\n",
            "|         US|   37070734|R16ZDMJJHK796C|B00HES9CMS|     318730927|Viva Naturals #1 ...|Personal_Care_App...|          5|            0|          0|   N|                N|        High Quality|This is high qual...| 2015-08-31|\n",
            "|         US|   29615023| RRRDOEJZD1Y22|B00P6TUO5G|     170248843|Viva Naturals Org...|Personal_Care_App...|          4|            0|          0|   N|                Y|          we like it|Buying more produ...| 2015-08-31|\n",
            "|         US|   47893062|R2KR5ZEAS859DK|B0006VJ6TO|     412568457|Body Back Company...|Personal_Care_App...|          5|            0|          0|   N|                Y|          Five Stars|    Their best cane.| 2015-08-31|\n",
            "|         US|    2582596| RR7PGQY763IHF|B00H9L7VIW|     851045898|boostULTIMATE - 6...|Personal_Care_App...|          5|            0|          0|   N|                Y|       Great product|Great product! Ma...| 2015-08-31|\n",
            "|         US|   21969415| RN37YYZBP9BMP|B00P1JNZUW|     274294586|doTERRA Veráge Sk...|Personal_Care_App...|          5|            4|          4|   N|                Y|Love the prouduct...|Love the prouduct...| 2015-08-31|\n",
            "|         US|   43153609| R1UXGB70OR5TW|B00N5HD340|     955577225|      Straight Razor|Personal_Care_App...|          5|            0|          0|   N|                Y|          Five Stars|          great buy.| 2015-08-31|\n",
            "|         US|   17782951|R1OC5ZNXSGO7P1|B0007DHMVK|      78719480|BONGER Massage To...|Personal_Care_App...|          5|            0|          0|   N|                Y|          Five stars|These are so much...| 2015-08-31|\n",
            "|         US|   13710264|R1W4ZN8BPVNWK3|B0002JG2NI|     900996767|Home Health Casto...|Personal_Care_App...|          5|            0|          0|   N|                Y|It works for home...|It works for home...| 2015-08-31|\n",
            "|         US|   30720884|R2KE33CNN5X2B0|B00OYRW4UE|     223980852|Elite Sportz Exer...|Personal_Care_App...|          5|            0|          0|   N|                Y|These work great ...|These work great ...| 2015-08-31|\n",
            "|         US|   35206254|R1A26EDSO0U5N6|B00598WT0C|     218203731|Aloha Eyewear “St...|Personal_Care_App...|          5|            0|          0|   N|                Y|             awesome|for anyone needin...| 2015-08-31|\n",
            "|         US|   10261156|R3L81GOHVS3E9P|B0006VJ6TO|     412568457|Body Back Company...|Personal_Care_App...|          5|            0|          0|   N|                Y| Deep tissue massage|This works perfec...| 2015-08-31|\n",
            "|         US|   50708344| RNFW9SWC5D0YF|B00J7G96NK|     256041044|Oral B Glide Flos...|Personal_Care_App...|          5|            2|          2|   N|                N|These are an esse...|Not only are thes...| 2015-08-31|\n",
            "+-----------+-----------+--------------+----------+--------------+--------------------+--------------------+-----------+-------------+-----------+----+-----------------+--------------------+--------------------+-----------+\n",
            "only showing top 20 rows\n",
            "\n"
          ]
        }
      ]
    },
    {
      "cell_type": "code",
      "source": [
        "# Create the vine_table. DataFrame\n",
        "vine_df = df.filter(df.total_votes >= 20)\n",
        "vine_df.show()"
      ],
      "metadata": {
        "colab": {
          "base_uri": "https://localhost:8080/"
        },
        "id": "D4iHtO_zww0J",
        "outputId": "5a00b07b-fa35-4cca-fdac-8f39f36d4447"
      },
      "execution_count": 5,
      "outputs": [
        {
          "output_type": "stream",
          "name": "stdout",
          "text": [
            "+-----------+-----------+--------------+----------+--------------+--------------------+--------------------+-----------+-------------+-----------+----+-----------------+--------------------+--------------------+-----------+\n",
            "|marketplace|customer_id|     review_id|product_id|product_parent|       product_title|    product_category|star_rating|helpful_votes|total_votes|vine|verified_purchase|     review_headline|         review_body|review_date|\n",
            "+-----------+-----------+--------------+----------+--------------+--------------------+--------------------+-----------+-------------+-----------+----+-----------------+--------------------+--------------------+-----------+\n",
            "|         US|   26034089|R2PT2X8FMYFCV3|B00PV2QSLW|     991555077|Pride Mobility Go...|Personal_Care_App...|          5|           39|         41|   N|                Y|          Five Stars|Nice not too heav...| 2015-08-18|\n",
            "|         US|   19214268| RGCUQSH80SYY7|B00H8ZTLLY|     548146182|doTERRA On Guard ...|Personal_Care_App...|          1|           36|         47|   N|                N|These are natural...|After carrying th...| 2015-08-18|\n",
            "|         US|   42150992|R3E6EI073KP0AL|B00V2L5JRA|     417635592|Xtreme Comforts C...|Personal_Care_App...|          2|           21|         36|   N|                Y|Bad fit in a full...|I am 6'2&#34; tal...| 2015-08-18|\n",
            "|         US|   45452861|R3MYTXW7B4Z6YW|B0118Q011M|      68185001|URPOWER 2nd Gener...|Personal_Care_App...|          4|          687|        711|   N|                Y|Nice large volume...|Unlike most of th...| 2015-08-17|\n",
            "|         US|   52683195|R2WMF1IWN5ZYO4|B00H8ZTLLY|     548146182|doTERRA On Guard ...|Personal_Care_App...|          5|           18|         24|   N|                Y|Keeping you healt...|These are suppose...| 2015-08-12|\n",
            "|         US|   21846884| ROX6L7VJFS2P7|B0118Q011M|      68185001|URPOWER 2nd Gener...|Personal_Care_App...|          5|          339|        371|   N|                N|Powerful and Long...|[[VIDEOID:c484c8f...| 2015-08-09|\n",
            "|         US|    1843395| RRKAST7D4QTW8|B0006VJ6TO|     412568457|Body Back Company...|Personal_Care_App...|          1|           20|         27|   N|                N|           Defective|The knob that is ...| 2015-08-08|\n",
            "|         US|   28543917|R2QBKTWBDPL8BF|B0118Q011M|      68185001|URPOWER 2nd Gener...|Personal_Care_App...|          5|           65|         83|   N|                N|Highly recommend ...|Lately I am so st...| 2015-08-07|\n",
            "|         US|     823020|R3ULT9I0U79N8L|B00ZORXZC4|     997310024|Baetea Weight Los...|Personal_Care_App...|          5|           49|         57|   N|                N|I love the blend ...|I love the blend ...| 2015-08-05|\n",
            "|         US|    5234479|R20LABVEB8O83Q|B00V2L5JRA|     417635592|Xtreme Comforts C...|Personal_Care_App...|          3|           11|         23|   N|                Y|made real nice bu...|This product is m...| 2015-08-03|\n",
            "|         US|   30520248| RAC19YVDYSIKB|B011J79PNK|     524658987|iReliev TENS + EM...|Personal_Care_App...|          5|          161|        178|   N|                Y|Awesome experienc...|Just ordered it t...| 2015-08-01|\n",
            "|         US|   19101625|R2Y371XG6AXDOJ|B00H9L7VIW|     851045898|boostULTIMATE - 6...|Personal_Care_App...|          1|           16|         30|   N|                Y|Regurgitated posi...|Ummmm, can you al...| 2015-07-22|\n",
            "|         US|   20322164|R2AYFA0X50V4BN|B00H8ZTLLY|     548146182|doTERRA On Guard ...|Personal_Care_App...|          5|           19|         20|   N|                Y|Perfect travel size.|I love these! Per...| 2015-07-19|\n",
            "|         US|   23767004|R1327SZTWDHLID|B00WLTPRYM|     543843158|Baetea Weight Los...|Personal_Care_App...|          1|           12|         24|   N|                Y|This is a rip off...|This is a rip off...| 2015-07-15|\n",
            "|         US|   19216116|R28VFN6VN0VBTB|B00HES9CMS|     318730927|Viva Naturals #1 ...|Personal_Care_App...|          1|            7|         20|   N|                N| \"BEST TASTING\" ??!!|&#34;BEST TASTING...| 2015-07-15|\n",
            "|         US|   33887643|R1I52HQDJFY2G0|B00LMTHSF8|     978453256|Shaveway 100% Pur...|Personal_Care_App...|          4|           18|         20|   N|                Y|Very good badger ...|This badger shavi...| 2015-07-13|\n",
            "|         US|     290020|R1FANBM03J1IHE|B00H9L7VIW|     851045898|boostULTIMATE - 6...|Personal_Care_App...|          5|           24|         31|   N|                N|This does what it...|This product I've...| 2015-07-09|\n",
            "|         US|   16050543|R2X15QGPQ9ESRU|B00H9L7VIW|     851045898|boostULTIMATE - 6...|Personal_Care_App...|          1|           12|         23|   N|                Y|save your money scam|I should have lis...| 2015-06-27|\n",
            "|         US|    6560720|R1F7CUCJIBPS7L|B00LPHJW4M|     353133521|Bestrice Ombre Di...|Personal_Care_App...|          3|           20|         21|   N|                Y|Only for people w...|Unless you have r...| 2015-06-23|\n",
            "|         US|   51695938|R3JV04CHH10FFR|B00P8ED24E|     378774243|Syrtenty Snap Ele...|Personal_Care_App...|          5|           32|         32|   N|                Y|Large butterfly p...|Finally!  I've be...| 2015-06-20|\n",
            "+-----------+-----------+--------------+----------+--------------+--------------------+--------------------+-----------+-------------+-----------+----+-----------------+--------------------+--------------------+-----------+\n",
            "only showing top 20 rows\n",
            "\n"
          ]
        }
      ]
    },
    {
      "cell_type": "code",
      "source": [
        "# Create the vine_table. DataFrame w/ helpful votes ratio\n",
        "vine_df2 = df.filter(vine_df.helpful_votes / vine_df.total_votes >= 0.5)\n",
        "vine_df2.show()"
      ],
      "metadata": {
        "colab": {
          "base_uri": "https://localhost:8080/"
        },
        "id": "763rpkJ9xLEY",
        "outputId": "678f0601-b395-4d26-dcbf-00b6722668f9"
      },
      "execution_count": 6,
      "outputs": [
        {
          "output_type": "stream",
          "name": "stdout",
          "text": [
            "+-----------+-----------+--------------+----------+--------------+--------------------+--------------------+-----------+-------------+-----------+----+-----------------+--------------------+--------------------+-----------+\n",
            "|marketplace|customer_id|     review_id|product_id|product_parent|       product_title|    product_category|star_rating|helpful_votes|total_votes|vine|verified_purchase|     review_headline|         review_body|review_date|\n",
            "+-----------+-----------+--------------+----------+--------------+--------------------+--------------------+-----------+-------------+-----------+----+-----------------+--------------------+--------------------+-----------+\n",
            "|         US|   19917519|R14Z1VR1N0Z9G6|B00HXXO332|     849307176|Pulse Oximeter, B...|Personal_Care_App...|          5|            1|          1|   N|                Y|It's really nice ...|It's really nice ...| 2015-08-31|\n",
            "|         US|   21969415| RN37YYZBP9BMP|B00P1JNZUW|     274294586|doTERRA Veráge Sk...|Personal_Care_App...|          5|            4|          4|   N|                Y|Love the prouduct...|Love the prouduct...| 2015-08-31|\n",
            "|         US|   50708344| RNFW9SWC5D0YF|B00J7G96NK|     256041044|Oral B Glide Flos...|Personal_Care_App...|          5|            2|          2|   N|                N|These are an esse...|Not only are thes...| 2015-08-31|\n",
            "|         US|   41933766|R24V6VDHS7JMQV|B0006Z0NY2|     636051703|      Gopher Reacher|Personal_Care_App...|          5|            1|          1|   N|                Y|        Works great!|It is exactly wha...| 2015-08-31|\n",
            "|         US|   17675324|  R5BE7WRX6BPD|B00HXXO332|     849307176|Pulse Oximeter, B...|Personal_Care_App...|          5|            1|          1|   N|                Y|My daughter is go...|My daughter is go...| 2015-08-31|\n",
            "|         US|   31049599| RWD2J7RJ5HBHJ|B0012LP63C|     571645877|WatchMinder 2 Sil...|Personal_Care_App...|          5|            9|         10|   N|                N|WatchMinder3 is a...|I am the inventor...| 2015-08-31|\n",
            "|         US|   12529312| RVCUAJ47ELFGD|B00HXXO332|     849307176|Pulse Oximeter, B...|Personal_Care_App...|          5|            1|          1|   N|                Y|     Excellent Value|This Pulse Oximet...| 2015-08-31|\n",
            "|         US|    3870710|R1KF261EK0NAVH|B004O276PW|     285061364|doTERRA On Guard ...|Personal_Care_App...|          5|            2|          3|   N|                Y|I absolutely love...|I absolutely love...| 2015-08-31|\n",
            "|         US|   43638759|R29I8SR2OX4CCJ|B004O23YE4|     284816422|doTERRA Cypress E...|Personal_Care_App...|          4|            2|          3|   N|                Y|          Four Stars| Works great for me.| 2015-08-31|\n",
            "|         US|   13333215|R1KW5T8U2K2UAX|B00FVYWDEG|     299618462|Doc Ortho Ultra S...|Personal_Care_App...|          5|            2|          2|   N|                Y|Worth a try if yo...|Bought these from...| 2015-08-31|\n",
            "|         US|   39045498|R3G7NU9VMW3MIO|B00LMEWGCI|     764114729|Balance Living Bu...|Personal_Care_App...|          5|            1|          1|   N|                N|   Love this pillow!|Love the pillow! ...| 2015-08-30|\n",
            "|         US|   16189258|R1D8ZBAEWYJIUE|B008320WGO|     780356431|INFINITE ALOE SKI...|Personal_Care_App...|          5|            2|          2|   N|                N|Best cream/skin c...|We tried it on a ...| 2015-08-30|\n",
            "|         US|   17274115| RKQNUD4WWUGOK|B004O275X0|     151883228|doTERRA Eucalyptu...|Personal_Care_App...|          5|            1|          1|   N|                Y|          Five Stars|I use this daily....| 2015-08-30|\n",
            "|         US|   12170817| RT72E1PK3DUAH|B0012LP63C|     571645877|WatchMinder 2 Sil...|Personal_Care_App...|          5|            5|          5|   N|                N|You will NOT have...|This watch is rea...| 2015-08-30|\n",
            "|         US|    2231370|R1AVZAXVINC304|B00DH3TODQ|     373362460|Biotech DermaSilk...|Personal_Care_App...|          5|            2|          3|   N|                Y|          Five Stars|              works!| 2015-08-30|\n",
            "|         US|   31940705|R3G14YPFPC2WVZ|B008MA41S2|     620858351|Soozier Full Roun...|Personal_Care_App...|          1|            1|          2|   N|                Y|Terrible product ...|Terrible product ...| 2015-08-30|\n",
            "|         US|   25358604|R13AY1N5UF3ISG|B00HES9CMS|     318730927|Viva Naturals #1 ...|Personal_Care_App...|          5|            1|          1|   N|                Y|The best! Taste g...|Absolutely love t...| 2015-08-30|\n",
            "|         US|   14978128|R2L00901OGC4EA|B00KRZR0OM|     822315169|Water & Wood Love...|Personal_Care_App...|          4|            1|          1|   N|                Y|  Simply adorable...|adorable watch. T...| 2015-08-30|\n",
            "|         US|   30614928| RCNRDB9PKF6F4|B005PGFAOU|     362834522|Readers Microvisi...|Personal_Care_App...|          1|            1|          1|   N|                Y|Should be better ...|Tips fell off aft...| 2015-08-30|\n",
            "|         US|   52015511| RYKHT0F7J8RJO|B00H9L7VIW|     851045898|boostULTIMATE - 6...|Personal_Care_App...|          3|            4|          6|   N|                N|A bit of a wild r...|(Disclosure: I ha...| 2015-08-29|\n",
            "+-----------+-----------+--------------+----------+--------------+--------------------+--------------------+-----------+-------------+-----------+----+-----------------+--------------------+--------------------+-----------+\n",
            "only showing top 20 rows\n",
            "\n"
          ]
        }
      ]
    },
    {
      "cell_type": "code",
      "source": [
        "# Paid Vine DataFrame\n",
        "paid_vine_df = vine_df2.filter(vine_df2.vine == 'Y')\n",
        "paid_vine_df.show()"
      ],
      "metadata": {
        "colab": {
          "base_uri": "https://localhost:8080/"
        },
        "id": "5DRb8ISYxoY5",
        "outputId": "0494047a-e7ef-4f29-b2bd-22b87dd7578b"
      },
      "execution_count": 8,
      "outputs": [
        {
          "output_type": "stream",
          "name": "stdout",
          "text": [
            "+-----------+-----------+--------------+----------+--------------+--------------------+--------------------+-----------+-------------+-----------+----+-----------------+--------------------+--------------------+-----------+\n",
            "|marketplace|customer_id|     review_id|product_id|product_parent|       product_title|    product_category|star_rating|helpful_votes|total_votes|vine|verified_purchase|     review_headline|         review_body|review_date|\n",
            "+-----------+-----------+--------------+----------+--------------+--------------------+--------------------+-----------+-------------+-----------+----+-----------------+--------------------+--------------------+-----------+\n",
            "|         US|   52580652|R12TGFMSCAR7P1|B00HES9CMS|     318730927|Viva Naturals #1 ...|Personal_Care_App...|          5|            1|          1|   Y|                N|I went from curio...|I have always bee...| 2014-11-03|\n",
            "|         US|   52836808|R3RD517WVBE5PD|B00HES9CMS|     318730927|Viva Naturals #1 ...|Personal_Care_App...|          5|            1|          1|   Y|                N|                Yum!|This is not as in...| 2014-10-30|\n",
            "|         US|   43657539|R1A7ZXYQTUGMIP|B00HES9CMS|     318730927|Viva Naturals #1 ...|Personal_Care_App...|          5|            1|          1|   Y|                N|           Delicious|So far I have onl...| 2014-10-26|\n",
            "|         US|   52884060|R3BZ0B0Q9GAVUL|B00HES9CMS|     318730927|Viva Naturals #1 ...|Personal_Care_App...|          5|            1|          2|   Y|                N|The best ever. To...|I was delighted t...| 2014-10-24|\n",
            "|         US|   47498580|R2ZTV000HIDVGS|B00HES9CMS|     318730927|Viva Naturals #1 ...|Personal_Care_App...|          4|            1|          1|   Y|                N|Suitable For Baki...|This is a good ca...| 2014-10-23|\n",
            "|         US|   51886989| R8UGQOURRNBC1|B00DSICT1Y|     427004417|uComfy Shiatsu Fo...|Personal_Care_App...|          2|            5|          9|   Y|                N|Not what I would ...|I was really look...| 2014-02-17|\n",
            "|         US|   35353346|R3R2RHQWEKX5NL|B00DSICT1Y|     427004417|uComfy Shiatsu Fo...|Personal_Care_App...|          5|           81|         89|   Y|                N|You can hear your...|First off one bit...| 2014-01-13|\n",
            "|         US|   50929595|R1RZ4JZO8DAP7H|B00DSICT1Y|     427004417|uComfy Shiatsu Fo...|Personal_Care_App...|          3|          200|        227|   Y|                N|Good shiatsu and ...|[[VIDEOID:mo1RJDR...| 2014-01-12|\n",
            "|         US|   29142162| RQ94HI0WM8KIG|B00DSICT1Y|     427004417|uComfy Shiatsu Fo...|Personal_Care_App...|          5|          174|        188|   Y|                N|Great Massager - ...|Usually when I go...| 2014-01-08|\n",
            "+-----------+-----------+--------------+----------+--------------+--------------------+--------------------+-----------+-------------+-----------+----+-----------------+--------------------+--------------------+-----------+\n",
            "\n"
          ]
        }
      ]
    },
    {
      "cell_type": "code",
      "source": [
        "# NOT Paid Vine DataFrame\n",
        "unpaid_vine_df = vine_df2.filter(vine_df2.vine == 'N')\n",
        "unpaid_vine_df.show()"
      ],
      "metadata": {
        "colab": {
          "base_uri": "https://localhost:8080/"
        },
        "id": "NArSJfevyGbC",
        "outputId": "79450a9f-637c-4ed0-dc06-7b1b505ce51c"
      },
      "execution_count": 9,
      "outputs": [
        {
          "output_type": "stream",
          "name": "stdout",
          "text": [
            "+-----------+-----------+--------------+----------+--------------+--------------------+--------------------+-----------+-------------+-----------+----+-----------------+--------------------+--------------------+-----------+\n",
            "|marketplace|customer_id|     review_id|product_id|product_parent|       product_title|    product_category|star_rating|helpful_votes|total_votes|vine|verified_purchase|     review_headline|         review_body|review_date|\n",
            "+-----------+-----------+--------------+----------+--------------+--------------------+--------------------+-----------+-------------+-----------+----+-----------------+--------------------+--------------------+-----------+\n",
            "|         US|   19917519|R14Z1VR1N0Z9G6|B00HXXO332|     849307176|Pulse Oximeter, B...|Personal_Care_App...|          5|            1|          1|   N|                Y|It's really nice ...|It's really nice ...| 2015-08-31|\n",
            "|         US|   21969415| RN37YYZBP9BMP|B00P1JNZUW|     274294586|doTERRA Veráge Sk...|Personal_Care_App...|          5|            4|          4|   N|                Y|Love the prouduct...|Love the prouduct...| 2015-08-31|\n",
            "|         US|   50708344| RNFW9SWC5D0YF|B00J7G96NK|     256041044|Oral B Glide Flos...|Personal_Care_App...|          5|            2|          2|   N|                N|These are an esse...|Not only are thes...| 2015-08-31|\n",
            "|         US|   41933766|R24V6VDHS7JMQV|B0006Z0NY2|     636051703|      Gopher Reacher|Personal_Care_App...|          5|            1|          1|   N|                Y|        Works great!|It is exactly wha...| 2015-08-31|\n",
            "|         US|   17675324|  R5BE7WRX6BPD|B00HXXO332|     849307176|Pulse Oximeter, B...|Personal_Care_App...|          5|            1|          1|   N|                Y|My daughter is go...|My daughter is go...| 2015-08-31|\n",
            "|         US|   31049599| RWD2J7RJ5HBHJ|B0012LP63C|     571645877|WatchMinder 2 Sil...|Personal_Care_App...|          5|            9|         10|   N|                N|WatchMinder3 is a...|I am the inventor...| 2015-08-31|\n",
            "|         US|   12529312| RVCUAJ47ELFGD|B00HXXO332|     849307176|Pulse Oximeter, B...|Personal_Care_App...|          5|            1|          1|   N|                Y|     Excellent Value|This Pulse Oximet...| 2015-08-31|\n",
            "|         US|    3870710|R1KF261EK0NAVH|B004O276PW|     285061364|doTERRA On Guard ...|Personal_Care_App...|          5|            2|          3|   N|                Y|I absolutely love...|I absolutely love...| 2015-08-31|\n",
            "|         US|   43638759|R29I8SR2OX4CCJ|B004O23YE4|     284816422|doTERRA Cypress E...|Personal_Care_App...|          4|            2|          3|   N|                Y|          Four Stars| Works great for me.| 2015-08-31|\n",
            "|         US|   13333215|R1KW5T8U2K2UAX|B00FVYWDEG|     299618462|Doc Ortho Ultra S...|Personal_Care_App...|          5|            2|          2|   N|                Y|Worth a try if yo...|Bought these from...| 2015-08-31|\n",
            "|         US|   39045498|R3G7NU9VMW3MIO|B00LMEWGCI|     764114729|Balance Living Bu...|Personal_Care_App...|          5|            1|          1|   N|                N|   Love this pillow!|Love the pillow! ...| 2015-08-30|\n",
            "|         US|   16189258|R1D8ZBAEWYJIUE|B008320WGO|     780356431|INFINITE ALOE SKI...|Personal_Care_App...|          5|            2|          2|   N|                N|Best cream/skin c...|We tried it on a ...| 2015-08-30|\n",
            "|         US|   17274115| RKQNUD4WWUGOK|B004O275X0|     151883228|doTERRA Eucalyptu...|Personal_Care_App...|          5|            1|          1|   N|                Y|          Five Stars|I use this daily....| 2015-08-30|\n",
            "|         US|   12170817| RT72E1PK3DUAH|B0012LP63C|     571645877|WatchMinder 2 Sil...|Personal_Care_App...|          5|            5|          5|   N|                N|You will NOT have...|This watch is rea...| 2015-08-30|\n",
            "|         US|    2231370|R1AVZAXVINC304|B00DH3TODQ|     373362460|Biotech DermaSilk...|Personal_Care_App...|          5|            2|          3|   N|                Y|          Five Stars|              works!| 2015-08-30|\n",
            "|         US|   31940705|R3G14YPFPC2WVZ|B008MA41S2|     620858351|Soozier Full Roun...|Personal_Care_App...|          1|            1|          2|   N|                Y|Terrible product ...|Terrible product ...| 2015-08-30|\n",
            "|         US|   25358604|R13AY1N5UF3ISG|B00HES9CMS|     318730927|Viva Naturals #1 ...|Personal_Care_App...|          5|            1|          1|   N|                Y|The best! Taste g...|Absolutely love t...| 2015-08-30|\n",
            "|         US|   14978128|R2L00901OGC4EA|B00KRZR0OM|     822315169|Water & Wood Love...|Personal_Care_App...|          4|            1|          1|   N|                Y|  Simply adorable...|adorable watch. T...| 2015-08-30|\n",
            "|         US|   30614928| RCNRDB9PKF6F4|B005PGFAOU|     362834522|Readers Microvisi...|Personal_Care_App...|          1|            1|          1|   N|                Y|Should be better ...|Tips fell off aft...| 2015-08-30|\n",
            "|         US|   52015511| RYKHT0F7J8RJO|B00H9L7VIW|     851045898|boostULTIMATE - 6...|Personal_Care_App...|          3|            4|          6|   N|                N|A bit of a wild r...|(Disclosure: I ha...| 2015-08-29|\n",
            "+-----------+-----------+--------------+----------+--------------+--------------------+--------------------+-----------+-------------+-----------+----+-----------------+--------------------+--------------------+-----------+\n",
            "only showing top 20 rows\n",
            "\n"
          ]
        }
      ]
    },
    {
      "cell_type": "code",
      "source": [
        "# Total Paid Reviews\n",
        "total_paid_reviews = paid_vine_df.count()\n",
        "total_paid_reviews"
      ],
      "metadata": {
        "colab": {
          "base_uri": "https://localhost:8080/"
        },
        "id": "sdy7PmfIyUkp",
        "outputId": "b08c6ae0-dd5d-43ee-a67c-7311a9e1c185"
      },
      "execution_count": 10,
      "outputs": [
        {
          "output_type": "execute_result",
          "data": {
            "text/plain": [
              "9"
            ]
          },
          "metadata": {},
          "execution_count": 10
        }
      ]
    },
    {
      "cell_type": "code",
      "source": [
        "# Paid 5 star Reviews\n",
        "paid_five_star_reviews = paid_vine_df.filter(paid_vine_df.star_rating == 5).count()\n",
        "paid_five_star_reviews"
      ],
      "metadata": {
        "colab": {
          "base_uri": "https://localhost:8080/"
        },
        "id": "Wp9KFWpAyinx",
        "outputId": "f78abce8-7769-49b0-bd7e-b035232cbe4a"
      },
      "execution_count": 12,
      "outputs": [
        {
          "output_type": "execute_result",
          "data": {
            "text/plain": [
              "6"
            ]
          },
          "metadata": {},
          "execution_count": 12
        }
      ]
    },
    {
      "cell_type": "code",
      "source": [
        "# Paid 5 Star Review Percentage\n",
        "paid_five_star_percent = (paid_five_star_reviews / total_paid_reviews) * 100\n",
        "paid_five_star_percent"
      ],
      "metadata": {
        "colab": {
          "base_uri": "https://localhost:8080/"
        },
        "id": "ePcBPVVxyo6R",
        "outputId": "4a99d986-fc89-4cfe-8889-fa32b539bebe"
      },
      "execution_count": 14,
      "outputs": [
        {
          "output_type": "execute_result",
          "data": {
            "text/plain": [
              "66.66666666666666"
            ]
          },
          "metadata": {},
          "execution_count": 14
        }
      ]
    },
    {
      "cell_type": "code",
      "source": [
        "# Total unpaid Reviews\n",
        "total_unpaid_reviews = unpaid_vine_df.count()\n",
        "total_unpaid_reviews"
      ],
      "metadata": {
        "colab": {
          "base_uri": "https://localhost:8080/"
        },
        "id": "Kfd8Whm6zXDp",
        "outputId": "4003fc95-c663-4d11-dc39-0566289b47fb"
      },
      "execution_count": 15,
      "outputs": [
        {
          "output_type": "execute_result",
          "data": {
            "text/plain": [
              "39105"
            ]
          },
          "metadata": {},
          "execution_count": 15
        }
      ]
    },
    {
      "cell_type": "code",
      "source": [
        "# Unpaid 5 star Reviews\n",
        "unpaid_five_star_reviews = unpaid_vine_df.filter(unpaid_vine_df.star_rating == 5).count()\n",
        "unpaid_five_star_reviews"
      ],
      "metadata": {
        "colab": {
          "base_uri": "https://localhost:8080/"
        },
        "id": "rSXRcSRWzkfR",
        "outputId": "63d403d1-5406-42c2-fc7e-e075b8cca40a"
      },
      "execution_count": 16,
      "outputs": [
        {
          "output_type": "execute_result",
          "data": {
            "text/plain": [
              "22115"
            ]
          },
          "metadata": {},
          "execution_count": 16
        }
      ]
    },
    {
      "cell_type": "code",
      "source": [
        "# Paid 5 Star Review Percentage\n",
        "unpaid_five_star_percent = (unpaid_five_star_reviews / total_unpaid_reviews) * 100\n",
        "unpaid_five_star_percent"
      ],
      "metadata": {
        "colab": {
          "base_uri": "https://localhost:8080/"
        },
        "id": "MuMtcJg6zui4",
        "outputId": "7cde3ed8-68d8-4f48-fb20-ea4c019b9079"
      },
      "execution_count": 17,
      "outputs": [
        {
          "output_type": "execute_result",
          "data": {
            "text/plain": [
              "56.552870476921115"
            ]
          },
          "metadata": {},
          "execution_count": 17
        }
      ]
    },
    {
      "cell_type": "code",
      "source": [
        ""
      ],
      "metadata": {
        "id": "4GteE5jHz1IB"
      },
      "execution_count": null,
      "outputs": []
    }
  ]
}